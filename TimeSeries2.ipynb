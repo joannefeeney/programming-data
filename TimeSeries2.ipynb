{
 "cells": [
  {
   "cell_type": "markdown",
   "metadata": {},
   "source": [
    "# Time Series"
   ]
  },
  {
   "cell_type": "markdown",
   "metadata": {},
   "source": [
    "https://pandas.pydata.org/docs/reference/api/pandas.date_range.html\n",
    "\n",
    "https://numpy.org/doc/stable/reference/random/generated/numpy.random.Generator.random.html\n",
    "\n",
    "https://numpy.org/doc/stable/reference/random/generated/numpy.random.Generator.poisson.html"
   ]
  },
  {
   "cell_type": "code",
   "execution_count": 11,
   "metadata": {},
   "outputs": [],
   "source": [
    "import pandas as pd"
   ]
  },
  {
   "cell_type": "code",
   "execution_count": 12,
   "metadata": {},
   "outputs": [],
   "source": [
    "idx = pd.date_range(\"2018-01-01\", periods=72, freq=\"H\")"
   ]
  },
  {
   "cell_type": "code",
   "execution_count": 13,
   "metadata": {},
   "outputs": [
    {
     "data": {
      "text/plain": [
       "DatetimeIndex(['2018-01-01 00:00:00', '2018-01-01 01:00:00',\n",
       "               '2018-01-01 02:00:00', '2018-01-01 03:00:00',\n",
       "               '2018-01-01 04:00:00', '2018-01-01 05:00:00',\n",
       "               '2018-01-01 06:00:00', '2018-01-01 07:00:00',\n",
       "               '2018-01-01 08:00:00', '2018-01-01 09:00:00',\n",
       "               '2018-01-01 10:00:00', '2018-01-01 11:00:00',\n",
       "               '2018-01-01 12:00:00', '2018-01-01 13:00:00',\n",
       "               '2018-01-01 14:00:00', '2018-01-01 15:00:00',\n",
       "               '2018-01-01 16:00:00', '2018-01-01 17:00:00',\n",
       "               '2018-01-01 18:00:00', '2018-01-01 19:00:00',\n",
       "               '2018-01-01 20:00:00', '2018-01-01 21:00:00',\n",
       "               '2018-01-01 22:00:00', '2018-01-01 23:00:00',\n",
       "               '2018-01-02 00:00:00', '2018-01-02 01:00:00',\n",
       "               '2018-01-02 02:00:00', '2018-01-02 03:00:00',\n",
       "               '2018-01-02 04:00:00', '2018-01-02 05:00:00',\n",
       "               '2018-01-02 06:00:00', '2018-01-02 07:00:00',\n",
       "               '2018-01-02 08:00:00', '2018-01-02 09:00:00',\n",
       "               '2018-01-02 10:00:00', '2018-01-02 11:00:00',\n",
       "               '2018-01-02 12:00:00', '2018-01-02 13:00:00',\n",
       "               '2018-01-02 14:00:00', '2018-01-02 15:00:00',\n",
       "               '2018-01-02 16:00:00', '2018-01-02 17:00:00',\n",
       "               '2018-01-02 18:00:00', '2018-01-02 19:00:00',\n",
       "               '2018-01-02 20:00:00', '2018-01-02 21:00:00',\n",
       "               '2018-01-02 22:00:00', '2018-01-02 23:00:00',\n",
       "               '2018-01-03 00:00:00', '2018-01-03 01:00:00',\n",
       "               '2018-01-03 02:00:00', '2018-01-03 03:00:00',\n",
       "               '2018-01-03 04:00:00', '2018-01-03 05:00:00',\n",
       "               '2018-01-03 06:00:00', '2018-01-03 07:00:00',\n",
       "               '2018-01-03 08:00:00', '2018-01-03 09:00:00',\n",
       "               '2018-01-03 10:00:00', '2018-01-03 11:00:00',\n",
       "               '2018-01-03 12:00:00', '2018-01-03 13:00:00',\n",
       "               '2018-01-03 14:00:00', '2018-01-03 15:00:00',\n",
       "               '2018-01-03 16:00:00', '2018-01-03 17:00:00',\n",
       "               '2018-01-03 18:00:00', '2018-01-03 19:00:00',\n",
       "               '2018-01-03 20:00:00', '2018-01-03 21:00:00',\n",
       "               '2018-01-03 22:00:00', '2018-01-03 23:00:00'],\n",
       "              dtype='datetime64[ns]', freq='H')"
      ]
     },
     "execution_count": 13,
     "metadata": {},
     "output_type": "execute_result"
    }
   ],
   "source": [
    "idx"
   ]
  },
  {
   "cell_type": "code",
   "execution_count": 14,
   "metadata": {},
   "outputs": [],
   "source": [
    "import numpy as np"
   ]
  },
  {
   "cell_type": "code",
   "execution_count": 15,
   "metadata": {},
   "outputs": [],
   "source": [
    "rng = np.random.default_rng()"
   ]
  },
  {
   "cell_type": "code",
   "execution_count": 16,
   "metadata": {},
   "outputs": [
    {
     "data": {
      "text/plain": [
       "array([2, 6, 4, 4, 3, 5, 9, 5, 6, 7], dtype=int64)"
      ]
     },
     "execution_count": 16,
     "metadata": {},
     "output_type": "execute_result"
    }
   ],
   "source": [
    "rng.poisson(5,10)"
   ]
  },
  {
   "cell_type": "code",
   "execution_count": 17,
   "metadata": {},
   "outputs": [],
   "source": [
    "ts = pd.DataFrame(data=rng.random(len(idx)), index=idx, columns=[\"admissions\"])"
   ]
  },
  {
   "cell_type": "code",
   "execution_count": 18,
   "metadata": {},
   "outputs": [
    {
     "data": {
      "text/html": [
       "<div>\n",
       "<style scoped>\n",
       "    .dataframe tbody tr th:only-of-type {\n",
       "        vertical-align: middle;\n",
       "    }\n",
       "\n",
       "    .dataframe tbody tr th {\n",
       "        vertical-align: top;\n",
       "    }\n",
       "\n",
       "    .dataframe thead th {\n",
       "        text-align: right;\n",
       "    }\n",
       "</style>\n",
       "<table border=\"1\" class=\"dataframe\">\n",
       "  <thead>\n",
       "    <tr style=\"text-align: right;\">\n",
       "      <th></th>\n",
       "      <th>admissions</th>\n",
       "    </tr>\n",
       "  </thead>\n",
       "  <tbody>\n",
       "    <tr>\n",
       "      <th>2018-01-01 00:00:00</th>\n",
       "      <td>0.951320</td>\n",
       "    </tr>\n",
       "    <tr>\n",
       "      <th>2018-01-01 01:00:00</th>\n",
       "      <td>0.787852</td>\n",
       "    </tr>\n",
       "    <tr>\n",
       "      <th>2018-01-01 02:00:00</th>\n",
       "      <td>0.522801</td>\n",
       "    </tr>\n",
       "    <tr>\n",
       "      <th>2018-01-01 03:00:00</th>\n",
       "      <td>0.893404</td>\n",
       "    </tr>\n",
       "    <tr>\n",
       "      <th>2018-01-01 04:00:00</th>\n",
       "      <td>0.163503</td>\n",
       "    </tr>\n",
       "    <tr>\n",
       "      <th>...</th>\n",
       "      <td>...</td>\n",
       "    </tr>\n",
       "    <tr>\n",
       "      <th>2018-01-03 19:00:00</th>\n",
       "      <td>0.472808</td>\n",
       "    </tr>\n",
       "    <tr>\n",
       "      <th>2018-01-03 20:00:00</th>\n",
       "      <td>0.986460</td>\n",
       "    </tr>\n",
       "    <tr>\n",
       "      <th>2018-01-03 21:00:00</th>\n",
       "      <td>0.888616</td>\n",
       "    </tr>\n",
       "    <tr>\n",
       "      <th>2018-01-03 22:00:00</th>\n",
       "      <td>0.618521</td>\n",
       "    </tr>\n",
       "    <tr>\n",
       "      <th>2018-01-03 23:00:00</th>\n",
       "      <td>0.854659</td>\n",
       "    </tr>\n",
       "  </tbody>\n",
       "</table>\n",
       "<p>72 rows × 1 columns</p>\n",
       "</div>"
      ],
      "text/plain": [
       "                     admissions\n",
       "2018-01-01 00:00:00    0.951320\n",
       "2018-01-01 01:00:00    0.787852\n",
       "2018-01-01 02:00:00    0.522801\n",
       "2018-01-01 03:00:00    0.893404\n",
       "2018-01-01 04:00:00    0.163503\n",
       "...                         ...\n",
       "2018-01-03 19:00:00    0.472808\n",
       "2018-01-03 20:00:00    0.986460\n",
       "2018-01-03 21:00:00    0.888616\n",
       "2018-01-03 22:00:00    0.618521\n",
       "2018-01-03 23:00:00    0.854659\n",
       "\n",
       "[72 rows x 1 columns]"
      ]
     },
     "execution_count": 18,
     "metadata": {},
     "output_type": "execute_result"
    }
   ],
   "source": [
    "ts"
   ]
  },
  {
   "cell_type": "code",
   "execution_count": 19,
   "metadata": {},
   "outputs": [
    {
     "data": {
      "text/plain": [
       "admissions    0.521086\n",
       "dtype: float64"
      ]
     },
     "execution_count": 19,
     "metadata": {},
     "output_type": "execute_result"
    }
   ],
   "source": [
    "ts.mean()"
   ]
  },
  {
   "cell_type": "code",
   "execution_count": 20,
   "metadata": {},
   "outputs": [
    {
     "data": {
      "text/plain": [
       "admissions    0.787852\n",
       "Name: 2018-01-01 01:00:00, dtype: float64"
      ]
     },
     "execution_count": 20,
     "metadata": {},
     "output_type": "execute_result"
    }
   ],
   "source": [
    "ts.loc[\"2018-01-01 01:00:00\"]"
   ]
  },
  {
   "cell_type": "code",
   "execution_count": 24,
   "metadata": {},
   "outputs": [
    {
     "data": {
      "text/plain": [
       "admissions    0.560308\n",
       "dtype: float64"
      ]
     },
     "execution_count": 24,
     "metadata": {},
     "output_type": "execute_result"
    }
   ],
   "source": [
    "ts.loc[\"2018-01-01 01:00:00\":\"2018-01-01 23:00:00\"].mean()"
   ]
  }
 ],
 "metadata": {
  "kernelspec": {
   "display_name": "base",
   "language": "python",
   "name": "python3"
  },
  "language_info": {
   "codemirror_mode": {
    "name": "ipython",
    "version": 3
   },
   "file_extension": ".py",
   "mimetype": "text/x-python",
   "name": "python",
   "nbconvert_exporter": "python",
   "pygments_lexer": "ipython3",
   "version": "3.11.4"
  }
 },
 "nbformat": 4,
 "nbformat_minor": 2
}
